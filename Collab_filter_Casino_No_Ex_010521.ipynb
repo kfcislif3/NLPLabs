{
  "nbformat": 4,
  "nbformat_minor": 0,
  "metadata": {
    "colab": {
      "name": "Collab_filter_Casino.ipynb",
      "provenance": [],
      "toc_visible": true,
      "authorship_tag": "ABX9TyO4WJwtyzvOMlKEHQHmzFdr",
      "include_colab_link": true
    },
    "kernelspec": {
      "name": "python3",
      "display_name": "Python 3"
    },
    "language_info": {
      "name": "python"
    },
    "accelerator": "GPU",
    "widgets": {
      "application/vnd.jupyter.widget-state+json": {
        "da0700bc66fc4f23bb468a68d3178f43": {
          "model_module": "@jupyter-widgets/controls",
          "model_name": "HBoxModel",
          "state": {
            "_view_name": "HBoxView",
            "_dom_classes": [],
            "_model_name": "HBoxModel",
            "_view_module": "@jupyter-widgets/controls",
            "_model_module_version": "1.5.0",
            "_view_count": null,
            "_view_module_version": "1.5.0",
            "box_style": "",
            "layout": "IPY_MODEL_856287ad77fe49059971c6d362b72ea3",
            "_model_module": "@jupyter-widgets/controls",
            "children": [
              "IPY_MODEL_89083a26d666490d92f697c1411d5f3e",
              "IPY_MODEL_83dfa6f180fc400c9d115efd7b52be16"
            ]
          }
        },
        "856287ad77fe49059971c6d362b72ea3": {
          "model_module": "@jupyter-widgets/base",
          "model_name": "LayoutModel",
          "state": {
            "_view_name": "LayoutView",
            "grid_template_rows": null,
            "right": null,
            "justify_content": null,
            "_view_module": "@jupyter-widgets/base",
            "overflow": null,
            "_model_module_version": "1.2.0",
            "_view_count": null,
            "flex_flow": null,
            "width": null,
            "min_width": null,
            "border": null,
            "align_items": null,
            "bottom": null,
            "_model_module": "@jupyter-widgets/base",
            "top": null,
            "grid_column": null,
            "overflow_y": null,
            "overflow_x": null,
            "grid_auto_flow": null,
            "grid_area": null,
            "grid_template_columns": null,
            "flex": null,
            "_model_name": "LayoutModel",
            "justify_items": null,
            "grid_row": null,
            "max_height": null,
            "align_content": null,
            "visibility": null,
            "align_self": null,
            "height": null,
            "min_height": null,
            "padding": null,
            "grid_auto_rows": null,
            "grid_gap": null,
            "max_width": null,
            "order": null,
            "_view_module_version": "1.2.0",
            "grid_template_areas": null,
            "object_position": null,
            "object_fit": null,
            "grid_auto_columns": null,
            "margin": null,
            "display": null,
            "left": null
          }
        },
        "89083a26d666490d92f697c1411d5f3e": {
          "model_module": "@jupyter-widgets/controls",
          "model_name": "FloatProgressModel",
          "state": {
            "_view_name": "ProgressView",
            "style": "IPY_MODEL_bad52c905533402c8178255e1539f874",
            "_dom_classes": [],
            "description": "100%",
            "_model_name": "FloatProgressModel",
            "bar_style": "success",
            "max": 100,
            "_view_module": "@jupyter-widgets/controls",
            "_model_module_version": "1.5.0",
            "value": 100,
            "_view_count": null,
            "_view_module_version": "1.5.0",
            "orientation": "horizontal",
            "min": 0,
            "description_tooltip": null,
            "_model_module": "@jupyter-widgets/controls",
            "layout": "IPY_MODEL_9582a71b2b5a4221baac93986fab7ddb"
          }
        },
        "83dfa6f180fc400c9d115efd7b52be16": {
          "model_module": "@jupyter-widgets/controls",
          "model_name": "HTMLModel",
          "state": {
            "_view_name": "HTMLView",
            "style": "IPY_MODEL_367eab5862e14719acdbd48a78b292d8",
            "_dom_classes": [],
            "description": "",
            "_model_name": "HTMLModel",
            "placeholder": "​",
            "_view_module": "@jupyter-widgets/controls",
            "_model_module_version": "1.5.0",
            "value": " 100/100 [00:41&lt;00:00,  2.42it/s]",
            "_view_count": null,
            "_view_module_version": "1.5.0",
            "description_tooltip": null,
            "_model_module": "@jupyter-widgets/controls",
            "layout": "IPY_MODEL_ce69691d892346dbbd3266da8e94cbd1"
          }
        },
        "bad52c905533402c8178255e1539f874": {
          "model_module": "@jupyter-widgets/controls",
          "model_name": "ProgressStyleModel",
          "state": {
            "_view_name": "StyleView",
            "_model_name": "ProgressStyleModel",
            "description_width": "initial",
            "_view_module": "@jupyter-widgets/base",
            "_model_module_version": "1.5.0",
            "_view_count": null,
            "_view_module_version": "1.2.0",
            "bar_color": null,
            "_model_module": "@jupyter-widgets/controls"
          }
        },
        "9582a71b2b5a4221baac93986fab7ddb": {
          "model_module": "@jupyter-widgets/base",
          "model_name": "LayoutModel",
          "state": {
            "_view_name": "LayoutView",
            "grid_template_rows": null,
            "right": null,
            "justify_content": null,
            "_view_module": "@jupyter-widgets/base",
            "overflow": null,
            "_model_module_version": "1.2.0",
            "_view_count": null,
            "flex_flow": null,
            "width": null,
            "min_width": null,
            "border": null,
            "align_items": null,
            "bottom": null,
            "_model_module": "@jupyter-widgets/base",
            "top": null,
            "grid_column": null,
            "overflow_y": null,
            "overflow_x": null,
            "grid_auto_flow": null,
            "grid_area": null,
            "grid_template_columns": null,
            "flex": null,
            "_model_name": "LayoutModel",
            "justify_items": null,
            "grid_row": null,
            "max_height": null,
            "align_content": null,
            "visibility": null,
            "align_self": null,
            "height": null,
            "min_height": null,
            "padding": null,
            "grid_auto_rows": null,
            "grid_gap": null,
            "max_width": null,
            "order": null,
            "_view_module_version": "1.2.0",
            "grid_template_areas": null,
            "object_position": null,
            "object_fit": null,
            "grid_auto_columns": null,
            "margin": null,
            "display": null,
            "left": null
          }
        },
        "367eab5862e14719acdbd48a78b292d8": {
          "model_module": "@jupyter-widgets/controls",
          "model_name": "DescriptionStyleModel",
          "state": {
            "_view_name": "StyleView",
            "_model_name": "DescriptionStyleModel",
            "description_width": "",
            "_view_module": "@jupyter-widgets/base",
            "_model_module_version": "1.5.0",
            "_view_count": null,
            "_view_module_version": "1.2.0",
            "_model_module": "@jupyter-widgets/controls"
          }
        },
        "ce69691d892346dbbd3266da8e94cbd1": {
          "model_module": "@jupyter-widgets/base",
          "model_name": "LayoutModel",
          "state": {
            "_view_name": "LayoutView",
            "grid_template_rows": null,
            "right": null,
            "justify_content": null,
            "_view_module": "@jupyter-widgets/base",
            "overflow": null,
            "_model_module_version": "1.2.0",
            "_view_count": null,
            "flex_flow": null,
            "width": null,
            "min_width": null,
            "border": null,
            "align_items": null,
            "bottom": null,
            "_model_module": "@jupyter-widgets/base",
            "top": null,
            "grid_column": null,
            "overflow_y": null,
            "overflow_x": null,
            "grid_auto_flow": null,
            "grid_area": null,
            "grid_template_columns": null,
            "flex": null,
            "_model_name": "LayoutModel",
            "justify_items": null,
            "grid_row": null,
            "max_height": null,
            "align_content": null,
            "visibility": null,
            "align_self": null,
            "height": null,
            "min_height": null,
            "padding": null,
            "grid_auto_rows": null,
            "grid_gap": null,
            "max_width": null,
            "order": null,
            "_view_module_version": "1.2.0",
            "grid_template_areas": null,
            "object_position": null,
            "object_fit": null,
            "grid_auto_columns": null,
            "margin": null,
            "display": null,
            "left": null
          }
        }
      }
    }
  },
  "cells": [
    {
      "cell_type": "markdown",
      "metadata": {
        "id": "view-in-github",
        "colab_type": "text"
      },
      "source": [
        "<a href=\"https://colab.research.google.com/github/kfcislif3/NLPLabs/blob/main/Collab_filter_Casino_No_Ex_010521.ipynb\" target=\"_parent\"><img src=\"https://colab.research.google.com/assets/colab-badge.svg\" alt=\"Open In Colab\"/></a>"
      ]
    },
    {
      "cell_type": "markdown",
      "metadata": {
        "id": "ujX8CiiqV5yx"
      },
      "source": [
        "\n",
        "Implementation of Collaborative Filtering using Matrix Factorisation on Casino Dataset (from Kindred)\n",
        "---\n",
        "---\n",
        "1st implementation without post-hoc explanation\n",
        "\n",
        "2nd implementation will be with post-hoc explanation\n",
        "\n",
        "---\n",
        "Structure of the Files is as follows:\n",
        "\n",
        "\n",
        "\n"
      ]
    },
    {
      "cell_type": "code",
      "metadata": {
        "colab": {
          "base_uri": "https://localhost:8080/"
        },
        "id": "TtTuRPLgrYIp",
        "outputId": "dd06fe07-4910-49e8-f3da-93a3e1e7fe7a"
      },
      "source": [
        "##########################\n",
        "## Google Drive Imports ##\n",
        "##########################\n",
        "\n",
        "from google.colab import drive\n",
        "drive.mount('/content/drive') # Outputs will be saved in your google drive"
      ],
      "execution_count": 4,
      "outputs": [
        {
          "output_type": "stream",
          "text": [
            "Mounted at /content/drive\n"
          ],
          "name": "stdout"
        }
      ]
    },
    {
      "cell_type": "code",
      "metadata": {
        "colab": {
          "base_uri": "https://localhost:8080/"
        },
        "id": "2RjkX1-9KV20",
        "outputId": "bac806da-5011-4335-f8f1-6affbe0f3a84"
      },
      "source": [
        "!pip install implicit\n",
        "!pip install ml_metrics"
      ],
      "execution_count": 5,
      "outputs": [
        {
          "output_type": "stream",
          "text": [
            "Collecting implicit\n",
            "\u001b[?25l  Downloading https://files.pythonhosted.org/packages/bc/07/c0121884722d16e2c5beeb815f6b84b41cbf22e738e4075f1475be2791bc/implicit-0.4.4.tar.gz (1.1MB)\n",
            "\u001b[K     |████████████████████████████████| 1.1MB 5.8MB/s \n",
            "\u001b[?25hRequirement already satisfied: numpy in /usr/local/lib/python3.7/dist-packages (from implicit) (1.19.5)\n",
            "Requirement already satisfied: scipy>=0.16 in /usr/local/lib/python3.7/dist-packages (from implicit) (1.4.1)\n",
            "Requirement already satisfied: tqdm>=4.27 in /usr/local/lib/python3.7/dist-packages (from implicit) (4.41.1)\n",
            "Building wheels for collected packages: implicit\n",
            "  Building wheel for implicit (setup.py) ... \u001b[?25l\u001b[?25hdone\n",
            "  Created wheel for implicit: filename=implicit-0.4.4-cp37-cp37m-linux_x86_64.whl size=3406327 sha256=4b1301ad1672d4284c410e718e0a59e9d00679494199683b42898de538676575\n",
            "  Stored in directory: /root/.cache/pip/wheels/bf/d4/ec/fd4f622fcbefb7521f149905295b2c26adecb23af38aa28217\n",
            "Successfully built implicit\n",
            "Installing collected packages: implicit\n",
            "Successfully installed implicit-0.4.4\n",
            "Collecting ml_metrics\n",
            "  Downloading https://files.pythonhosted.org/packages/c1/e7/c31a2dd37045a0c904bee31c2dbed903d4f125a6ce980b91bae0c961abb8/ml_metrics-0.1.4.tar.gz\n",
            "Requirement already satisfied: numpy in /usr/local/lib/python3.7/dist-packages (from ml_metrics) (1.19.5)\n",
            "Requirement already satisfied: pandas in /usr/local/lib/python3.7/dist-packages (from ml_metrics) (1.1.5)\n",
            "Requirement already satisfied: pytz>=2017.2 in /usr/local/lib/python3.7/dist-packages (from pandas->ml_metrics) (2018.9)\n",
            "Requirement already satisfied: python-dateutil>=2.7.3 in /usr/local/lib/python3.7/dist-packages (from pandas->ml_metrics) (2.8.1)\n",
            "Requirement already satisfied: six>=1.5 in /usr/local/lib/python3.7/dist-packages (from python-dateutil>=2.7.3->pandas->ml_metrics) (1.15.0)\n",
            "Building wheels for collected packages: ml-metrics\n",
            "  Building wheel for ml-metrics (setup.py) ... \u001b[?25l\u001b[?25hdone\n",
            "  Created wheel for ml-metrics: filename=ml_metrics-0.1.4-cp37-none-any.whl size=7850 sha256=172226e0964ed8292f178eacb20ada64ccb860137a3a9c6cff6295c6e71e9c27\n",
            "  Stored in directory: /root/.cache/pip/wheels/b3/61/2d/776be7b8a4f14c5db48c8e5451451cabc58dc6aa7ee3801163\n",
            "Successfully built ml-metrics\n",
            "Installing collected packages: ml-metrics\n",
            "Successfully installed ml-metrics-0.1.4\n"
          ],
          "name": "stdout"
        }
      ]
    },
    {
      "cell_type": "code",
      "metadata": {
        "colab": {
          "base_uri": "https://localhost:8080/",
          "height": 35
        },
        "id": "y59jqB5_y7UC",
        "outputId": "ae76e78e-cec8-4c5c-ae07-9bf3e9bfb53d"
      },
      "source": [
        "## Checking GPU type\n",
        "import torch\n",
        "torch.cuda.is_available()\n",
        "torch.cuda.get_device_name()"
      ],
      "execution_count": 72,
      "outputs": [
        {
          "output_type": "execute_result",
          "data": {
            "application/vnd.google.colaboratory.intrinsic+json": {
              "type": "string"
            },
            "text/plain": [
              "'Tesla V100-SXM2-16GB'"
            ]
          },
          "metadata": {
            "tags": []
          },
          "execution_count": 72
        }
      ]
    },
    {
      "cell_type": "code",
      "metadata": {
        "id": "PflM8kWZDTzC"
      },
      "source": [
        "#####################\n",
        "## Library Imports ##\n",
        "#####################\n",
        "\n",
        "## Data Processing Libraries\n",
        "import pandas as pd\n",
        "import numpy as np\n",
        "import datetime\n",
        "import scipy.sparse as sparse\n",
        "import csv\n",
        "\n",
        "# Misc Libraries\n",
        "import os\n",
        "\n",
        "## ML Libraries\n",
        "from sklearn.model_selection import train_test_split\n",
        "import implicit\n",
        "import ast\n",
        "import ml_metrics\n",
        "\n",
        "## Key Parameters\n",
        "random_state = 1\n"
      ],
      "execution_count": 6,
      "outputs": []
    },
    {
      "cell_type": "code",
      "metadata": {
        "id": "7nc6iyIMFmM3",
        "colab": {
          "base_uri": "https://localhost:8080/"
        },
        "outputId": "d94aeb8a-e521-48b7-f092-b9df879ee0c7"
      },
      "source": [
        "## Data Loading\n",
        "data_dir = '/content/drive/My Drive/Colab/Indivi_Proj/student_project_recommendations.csv' ## 14 days worth of daily casino login data\n",
        "\n",
        "data = pd.read_csv(data_dir)\n",
        "print(data.shape)"
      ],
      "execution_count": 7,
      "outputs": [
        {
          "output_type": "stream",
          "text": [
            "(2672042, 6)\n"
          ],
          "name": "stdout"
        }
      ]
    },
    {
      "cell_type": "code",
      "metadata": {
        "colab": {
          "base_uri": "https://localhost:8080/",
          "height": 419
        },
        "id": "1992piC_IQRQ",
        "outputId": "0cb2af8f-3b0b-4768-f65d-aea0f51392ff"
      },
      "source": [
        "## Adding column of Date in yyyy/mm/dd hh:mm:ss format from timestamp variable\n",
        "df = pd.DataFrame(np.round(data['timestamp']/1000, 0))\n",
        "df['date'] = pd.to_datetime(df['timestamp'], unit='s') # New column with date in yyyy/mm/dd hh:mm:ss format\n",
        "df = df.drop(['timestamp'], axis=1)\n",
        "data_withdate = pd.concat([data, df], axis=1) # New dataframe with new column with date in yyyy/mm/dd hh:mm:ss format\n",
        "data_withdate"
      ],
      "execution_count": 9,
      "outputs": [
        {
          "output_type": "execute_result",
          "data": {
            "text/html": [
              "<div>\n",
              "<style scoped>\n",
              "    .dataframe tbody tr th:only-of-type {\n",
              "        vertical-align: middle;\n",
              "    }\n",
              "\n",
              "    .dataframe tbody tr th {\n",
              "        vertical-align: top;\n",
              "    }\n",
              "\n",
              "    .dataframe thead th {\n",
              "        text-align: right;\n",
              "    }\n",
              "</style>\n",
              "<table border=\"1\" class=\"dataframe\">\n",
              "  <thead>\n",
              "    <tr style=\"text-align: right;\">\n",
              "      <th></th>\n",
              "      <th>timestamp</th>\n",
              "      <th>provider</th>\n",
              "      <th>channel</th>\n",
              "      <th>country</th>\n",
              "      <th>customer_id</th>\n",
              "      <th>game_id</th>\n",
              "      <th>date</th>\n",
              "    </tr>\n",
              "  </thead>\n",
              "  <tbody>\n",
              "    <tr>\n",
              "      <th>0</th>\n",
              "      <td>1614695395942</td>\n",
              "      <td>CasinoNyx</td>\n",
              "      <td>MOBILE</td>\n",
              "      <td>NO</td>\n",
              "      <td>109208</td>\n",
              "      <td>301a3c173bb7dcf50fc1be952422149aa222f308</td>\n",
              "      <td>2021-03-02 14:29:56</td>\n",
              "    </tr>\n",
              "    <tr>\n",
              "      <th>1</th>\n",
              "      <td>1614699098268</td>\n",
              "      <td>CasinoNyx</td>\n",
              "      <td>MOBILE</td>\n",
              "      <td>NO</td>\n",
              "      <td>109208</td>\n",
              "      <td>301a3c173bb7dcf50fc1be952422149aa222f308</td>\n",
              "      <td>2021-03-02 15:31:38</td>\n",
              "    </tr>\n",
              "    <tr>\n",
              "      <th>2</th>\n",
              "      <td>1614585331359</td>\n",
              "      <td>CasinoNyx</td>\n",
              "      <td>MOBILE</td>\n",
              "      <td>SE</td>\n",
              "      <td>43126</td>\n",
              "      <td>fdb20ffdaf3bff257cd0ed1a6fd25809612699a0</td>\n",
              "      <td>2021-03-01 07:55:31</td>\n",
              "    </tr>\n",
              "    <tr>\n",
              "      <th>3</th>\n",
              "      <td>1615406190976</td>\n",
              "      <td>CasinoNyx</td>\n",
              "      <td>MOBILE</td>\n",
              "      <td>SE</td>\n",
              "      <td>43126</td>\n",
              "      <td>fdb20ffdaf3bff257cd0ed1a6fd25809612699a0</td>\n",
              "      <td>2021-03-10 19:56:31</td>\n",
              "    </tr>\n",
              "    <tr>\n",
              "      <th>4</th>\n",
              "      <td>1614800197189</td>\n",
              "      <td>RedTigerGaming</td>\n",
              "      <td>MOBILE</td>\n",
              "      <td>SE</td>\n",
              "      <td>43126</td>\n",
              "      <td>ce47e9dd304d2ca7393766b4d4f39a94aab726b1</td>\n",
              "      <td>2021-03-03 19:36:37</td>\n",
              "    </tr>\n",
              "    <tr>\n",
              "      <th>...</th>\n",
              "      <td>...</td>\n",
              "      <td>...</td>\n",
              "      <td>...</td>\n",
              "      <td>...</td>\n",
              "      <td>...</td>\n",
              "      <td>...</td>\n",
              "      <td>...</td>\n",
              "    </tr>\n",
              "    <tr>\n",
              "      <th>2672037</th>\n",
              "      <td>1615748719950</td>\n",
              "      <td>LiveCasino.Evolution</td>\n",
              "      <td>WEB</td>\n",
              "      <td>NL</td>\n",
              "      <td>21251</td>\n",
              "      <td>42e686bc2fb9ad31b1fc9d37b70c5a97a6b258a4</td>\n",
              "      <td>2021-03-14 19:05:20</td>\n",
              "    </tr>\n",
              "    <tr>\n",
              "      <th>2672038</th>\n",
              "      <td>1615760162659</td>\n",
              "      <td>LiveCasino.Evolution</td>\n",
              "      <td>MOBILE</td>\n",
              "      <td>HU</td>\n",
              "      <td>187158</td>\n",
              "      <td>045b5fdac129b678256b73832ec10666982fc25f</td>\n",
              "      <td>2021-03-14 22:16:03</td>\n",
              "    </tr>\n",
              "    <tr>\n",
              "      <th>2672039</th>\n",
              "      <td>1615760162659</td>\n",
              "      <td>LiveCasino.Evolution</td>\n",
              "      <td>MOBILE</td>\n",
              "      <td>HU</td>\n",
              "      <td>187158</td>\n",
              "      <td>b374a0282fa36b5829555203c4683e5e2edb4c22</td>\n",
              "      <td>2021-03-14 22:16:03</td>\n",
              "    </tr>\n",
              "    <tr>\n",
              "      <th>2672040</th>\n",
              "      <td>1615760162659</td>\n",
              "      <td>LiveCasino.Evolution</td>\n",
              "      <td>MOBILE</td>\n",
              "      <td>HU</td>\n",
              "      <td>187158</td>\n",
              "      <td>30f252f9da6f81dfa22e2f2fe5920dae15c4c556</td>\n",
              "      <td>2021-03-14 22:16:03</td>\n",
              "    </tr>\n",
              "    <tr>\n",
              "      <th>2672041</th>\n",
              "      <td>1615762178507</td>\n",
              "      <td>LiveCasino.Evolution</td>\n",
              "      <td>MOBILE</td>\n",
              "      <td>HU</td>\n",
              "      <td>187158</td>\n",
              "      <td>045b5fdac129b678256b73832ec10666982fc25f</td>\n",
              "      <td>2021-03-14 22:49:39</td>\n",
              "    </tr>\n",
              "  </tbody>\n",
              "</table>\n",
              "<p>2672042 rows × 7 columns</p>\n",
              "</div>"
            ],
            "text/plain": [
              "             timestamp  ...                date\n",
              "0        1614695395942  ... 2021-03-02 14:29:56\n",
              "1        1614699098268  ... 2021-03-02 15:31:38\n",
              "2        1614585331359  ... 2021-03-01 07:55:31\n",
              "3        1615406190976  ... 2021-03-10 19:56:31\n",
              "4        1614800197189  ... 2021-03-03 19:36:37\n",
              "...                ...  ...                 ...\n",
              "2672037  1615748719950  ... 2021-03-14 19:05:20\n",
              "2672038  1615760162659  ... 2021-03-14 22:16:03\n",
              "2672039  1615760162659  ... 2021-03-14 22:16:03\n",
              "2672040  1615760162659  ... 2021-03-14 22:16:03\n",
              "2672041  1615762178507  ... 2021-03-14 22:49:39\n",
              "\n",
              "[2672042 rows x 7 columns]"
            ]
          },
          "metadata": {
            "tags": []
          },
          "execution_count": 9
        }
      ]
    },
    {
      "cell_type": "code",
      "metadata": {
        "colab": {
          "base_uri": "https://localhost:8080/"
        },
        "id": "wMHv_aIeIQJG",
        "outputId": "5be59457-ebf0-4c55-ed5a-bc2f0c8f6d20"
      },
      "source": [
        "###############################\n",
        "## Exploratory data analysis ##\n",
        "###############################\n",
        "print('Number of timestamps:', len(data_withdate.timestamp.unique()))\n",
        "print('Number of providers:', len(data_withdate.provider.unique()))\n",
        "print('Number of channels:', len(data_withdate.channel.unique()))\n",
        "print('Number of countries:', len(data_withdate.country.unique()))\n",
        "print('Number of Customers:', len(data_withdate.customer_id.unique()))\n",
        "print('Number of Games:', len(data_withdate.game_id.unique()))"
      ],
      "execution_count": 10,
      "outputs": [
        {
          "output_type": "stream",
          "text": [
            "Number of timestamps: 1284145\n",
            "Number of providers: 23\n",
            "Number of channels: 2\n",
            "Number of countries: 59\n",
            "Number of Customers: 194480\n",
            "Number of Games: 2793\n"
          ],
          "name": "stdout"
        }
      ]
    },
    {
      "cell_type": "code",
      "metadata": {
        "colab": {
          "base_uri": "https://localhost:8080/"
        },
        "id": "RtM-4OAJx6fY",
        "outputId": "316cbf34-db26-4694-87ae-1de910a30114"
      },
      "source": [
        "## Exploratory data analysis for distribution in number of logins by days\n",
        "## Maybe can split my countries to have a look. \n",
        "## Does it make sense to have different recommendation models for different countries?\n",
        "\n",
        "## TODO MAYBE TO LOOK AT DISTRIBUTION BY HOURS IN THE DAY\n",
        "## however need to consider data is across different timezones. so may need to normalise for that.\n",
        "\n",
        "df['date_day'] = pd.to_datetime(data_withdate['date']).dt.date\n",
        "print('Number of Games played on different dates :', df.date_day.value_counts())"
      ],
      "execution_count": 11,
      "outputs": [
        {
          "output_type": "stream",
          "text": [
            "Number of Games played on different dates : 2021-03-12    213315\n",
            "2021-03-05    210334\n",
            "2021-03-06    200417\n",
            "2021-03-13    198705\n",
            "2021-03-01    193340\n",
            "2021-03-11    190689\n",
            "2021-03-10    190491\n",
            "2021-03-04    187685\n",
            "2021-03-09    185649\n",
            "2021-03-02    184780\n",
            "2021-03-03    181816\n",
            "2021-03-08    178029\n",
            "2021-03-07    177995\n",
            "2021-03-14    163799\n",
            "2021-02-28     14998\n",
            "Name: date_day, dtype: int64\n"
          ],
          "name": "stdout"
        }
      ]
    },
    {
      "cell_type": "code",
      "metadata": {
        "id": "a8C90Ykix6c4"
      },
      "source": [
        "##########################################\n",
        "## To Do MORE EXPLORATORY DATA ANALYSIS ##\n",
        "##########################################\n",
        "\n",
        "## TODO INCLUDE PLOTS FOR EXPLORATORY DATA ANALYSIS\n"
      ],
      "execution_count": 37,
      "outputs": []
    },
    {
      "cell_type": "code",
      "metadata": {
        "id": "lq16kqjqx6aQ"
      },
      "source": [
        "#########################\n",
        "## Data Pre-Processing ##\n",
        "#########################"
      ],
      "execution_count": 38,
      "outputs": []
    },
    {
      "cell_type": "code",
      "metadata": {
        "id": "e5Z-W1L5x6Xn",
        "colab": {
          "base_uri": "https://localhost:8080/"
        },
        "outputId": "c5fc798b-4965-4967-8867-fdf13fc591b5"
      },
      "source": [
        "print('Number of missing values:')\n",
        "check_null = data_withdate.isnull().sum()\n",
        "check_null\n",
        "## shows 14 missing values for country.\n",
        "## no issue as will only be looking at user_id and item_id"
      ],
      "execution_count": 13,
      "outputs": [
        {
          "output_type": "stream",
          "text": [
            "Number of missing values:\n"
          ],
          "name": "stdout"
        },
        {
          "output_type": "execute_result",
          "data": {
            "text/plain": [
              "timestamp       0\n",
              "provider        0\n",
              "channel         0\n",
              "country        14\n",
              "customer_id     0\n",
              "game_id         0\n",
              "date            0\n",
              "dtype: int64"
            ]
          },
          "metadata": {
            "tags": []
          },
          "execution_count": 13
        }
      ]
    },
    {
      "cell_type": "code",
      "metadata": {
        "id": "zutECZ1rIP89"
      },
      "source": [
        "## Change data type to categorical data for Customer ID and Game ID\n",
        "data_withdate_customer = data_withdate['customer_id'].astype('category').cat.codes\n",
        "data_withdate_customer = data_withdate_customer.rename('customer_id_cat')\n",
        "data_withdate_game_id = data_withdate['game_id'].astype('category').cat.codes\n",
        "data_withdate_game_id = data_withdate_game_id.rename('game_id_cat')"
      ],
      "execution_count": 14,
      "outputs": []
    },
    {
      "cell_type": "code",
      "metadata": {
        "id": "P0uc634tIP6V",
        "colab": {
          "base_uri": "https://localhost:8080/",
          "height": 589
        },
        "outputId": "1719c5b1-75fb-4230-f397-4bd123c99990"
      },
      "source": [
        "## Merge Data Types\n",
        "data_withdate = pd.concat([data_withdate, data_withdate_customer, data_withdate_game_id], axis=1) # New dataframe with new column with date in yyyy/mm/dd hh:mm:ss format\n",
        "\n",
        "## Adding game_id_count for creating a pivot table of number of games played for each game for each customer\n",
        "data_withdate['game_id_count'] = 1\n",
        "\n",
        "## Check dataset\n",
        "data_withdate"
      ],
      "execution_count": 15,
      "outputs": [
        {
          "output_type": "execute_result",
          "data": {
            "text/html": [
              "<div>\n",
              "<style scoped>\n",
              "    .dataframe tbody tr th:only-of-type {\n",
              "        vertical-align: middle;\n",
              "    }\n",
              "\n",
              "    .dataframe tbody tr th {\n",
              "        vertical-align: top;\n",
              "    }\n",
              "\n",
              "    .dataframe thead th {\n",
              "        text-align: right;\n",
              "    }\n",
              "</style>\n",
              "<table border=\"1\" class=\"dataframe\">\n",
              "  <thead>\n",
              "    <tr style=\"text-align: right;\">\n",
              "      <th></th>\n",
              "      <th>timestamp</th>\n",
              "      <th>provider</th>\n",
              "      <th>channel</th>\n",
              "      <th>country</th>\n",
              "      <th>customer_id</th>\n",
              "      <th>game_id</th>\n",
              "      <th>date</th>\n",
              "      <th>customer_id_cat</th>\n",
              "      <th>game_id_cat</th>\n",
              "      <th>game_id_count</th>\n",
              "    </tr>\n",
              "  </thead>\n",
              "  <tbody>\n",
              "    <tr>\n",
              "      <th>0</th>\n",
              "      <td>1614695395942</td>\n",
              "      <td>CasinoNyx</td>\n",
              "      <td>MOBILE</td>\n",
              "      <td>NO</td>\n",
              "      <td>109208</td>\n",
              "      <td>301a3c173bb7dcf50fc1be952422149aa222f308</td>\n",
              "      <td>2021-03-02 14:29:56</td>\n",
              "      <td>109207</td>\n",
              "      <td>518</td>\n",
              "      <td>1</td>\n",
              "    </tr>\n",
              "    <tr>\n",
              "      <th>1</th>\n",
              "      <td>1614699098268</td>\n",
              "      <td>CasinoNyx</td>\n",
              "      <td>MOBILE</td>\n",
              "      <td>NO</td>\n",
              "      <td>109208</td>\n",
              "      <td>301a3c173bb7dcf50fc1be952422149aa222f308</td>\n",
              "      <td>2021-03-02 15:31:38</td>\n",
              "      <td>109207</td>\n",
              "      <td>518</td>\n",
              "      <td>1</td>\n",
              "    </tr>\n",
              "    <tr>\n",
              "      <th>2</th>\n",
              "      <td>1614585331359</td>\n",
              "      <td>CasinoNyx</td>\n",
              "      <td>MOBILE</td>\n",
              "      <td>SE</td>\n",
              "      <td>43126</td>\n",
              "      <td>fdb20ffdaf3bff257cd0ed1a6fd25809612699a0</td>\n",
              "      <td>2021-03-01 07:55:31</td>\n",
              "      <td>43125</td>\n",
              "      <td>2771</td>\n",
              "      <td>1</td>\n",
              "    </tr>\n",
              "    <tr>\n",
              "      <th>3</th>\n",
              "      <td>1615406190976</td>\n",
              "      <td>CasinoNyx</td>\n",
              "      <td>MOBILE</td>\n",
              "      <td>SE</td>\n",
              "      <td>43126</td>\n",
              "      <td>fdb20ffdaf3bff257cd0ed1a6fd25809612699a0</td>\n",
              "      <td>2021-03-10 19:56:31</td>\n",
              "      <td>43125</td>\n",
              "      <td>2771</td>\n",
              "      <td>1</td>\n",
              "    </tr>\n",
              "    <tr>\n",
              "      <th>4</th>\n",
              "      <td>1614800197189</td>\n",
              "      <td>RedTigerGaming</td>\n",
              "      <td>MOBILE</td>\n",
              "      <td>SE</td>\n",
              "      <td>43126</td>\n",
              "      <td>ce47e9dd304d2ca7393766b4d4f39a94aab726b1</td>\n",
              "      <td>2021-03-03 19:36:37</td>\n",
              "      <td>43125</td>\n",
              "      <td>2241</td>\n",
              "      <td>1</td>\n",
              "    </tr>\n",
              "    <tr>\n",
              "      <th>...</th>\n",
              "      <td>...</td>\n",
              "      <td>...</td>\n",
              "      <td>...</td>\n",
              "      <td>...</td>\n",
              "      <td>...</td>\n",
              "      <td>...</td>\n",
              "      <td>...</td>\n",
              "      <td>...</td>\n",
              "      <td>...</td>\n",
              "      <td>...</td>\n",
              "    </tr>\n",
              "    <tr>\n",
              "      <th>2672037</th>\n",
              "      <td>1615748719950</td>\n",
              "      <td>LiveCasino.Evolution</td>\n",
              "      <td>WEB</td>\n",
              "      <td>NL</td>\n",
              "      <td>21251</td>\n",
              "      <td>42e686bc2fb9ad31b1fc9d37b70c5a97a6b258a4</td>\n",
              "      <td>2021-03-14 19:05:20</td>\n",
              "      <td>21250</td>\n",
              "      <td>714</td>\n",
              "      <td>1</td>\n",
              "    </tr>\n",
              "    <tr>\n",
              "      <th>2672038</th>\n",
              "      <td>1615760162659</td>\n",
              "      <td>LiveCasino.Evolution</td>\n",
              "      <td>MOBILE</td>\n",
              "      <td>HU</td>\n",
              "      <td>187158</td>\n",
              "      <td>045b5fdac129b678256b73832ec10666982fc25f</td>\n",
              "      <td>2021-03-14 22:16:03</td>\n",
              "      <td>187157</td>\n",
              "      <td>65</td>\n",
              "      <td>1</td>\n",
              "    </tr>\n",
              "    <tr>\n",
              "      <th>2672039</th>\n",
              "      <td>1615760162659</td>\n",
              "      <td>LiveCasino.Evolution</td>\n",
              "      <td>MOBILE</td>\n",
              "      <td>HU</td>\n",
              "      <td>187158</td>\n",
              "      <td>b374a0282fa36b5829555203c4683e5e2edb4c22</td>\n",
              "      <td>2021-03-14 22:16:03</td>\n",
              "      <td>187157</td>\n",
              "      <td>1962</td>\n",
              "      <td>1</td>\n",
              "    </tr>\n",
              "    <tr>\n",
              "      <th>2672040</th>\n",
              "      <td>1615760162659</td>\n",
              "      <td>LiveCasino.Evolution</td>\n",
              "      <td>MOBILE</td>\n",
              "      <td>HU</td>\n",
              "      <td>187158</td>\n",
              "      <td>30f252f9da6f81dfa22e2f2fe5920dae15c4c556</td>\n",
              "      <td>2021-03-14 22:16:03</td>\n",
              "      <td>187157</td>\n",
              "      <td>524</td>\n",
              "      <td>1</td>\n",
              "    </tr>\n",
              "    <tr>\n",
              "      <th>2672041</th>\n",
              "      <td>1615762178507</td>\n",
              "      <td>LiveCasino.Evolution</td>\n",
              "      <td>MOBILE</td>\n",
              "      <td>HU</td>\n",
              "      <td>187158</td>\n",
              "      <td>045b5fdac129b678256b73832ec10666982fc25f</td>\n",
              "      <td>2021-03-14 22:49:39</td>\n",
              "      <td>187157</td>\n",
              "      <td>65</td>\n",
              "      <td>1</td>\n",
              "    </tr>\n",
              "  </tbody>\n",
              "</table>\n",
              "<p>2672042 rows × 10 columns</p>\n",
              "</div>"
            ],
            "text/plain": [
              "             timestamp              provider  ... game_id_cat game_id_count\n",
              "0        1614695395942             CasinoNyx  ...         518             1\n",
              "1        1614699098268             CasinoNyx  ...         518             1\n",
              "2        1614585331359             CasinoNyx  ...        2771             1\n",
              "3        1615406190976             CasinoNyx  ...        2771             1\n",
              "4        1614800197189        RedTigerGaming  ...        2241             1\n",
              "...                ...                   ...  ...         ...           ...\n",
              "2672037  1615748719950  LiveCasino.Evolution  ...         714             1\n",
              "2672038  1615760162659  LiveCasino.Evolution  ...          65             1\n",
              "2672039  1615760162659  LiveCasino.Evolution  ...        1962             1\n",
              "2672040  1615760162659  LiveCasino.Evolution  ...         524             1\n",
              "2672041  1615762178507  LiveCasino.Evolution  ...          65             1\n",
              "\n",
              "[2672042 rows x 10 columns]"
            ]
          },
          "metadata": {
            "tags": []
          },
          "execution_count": 15
        }
      ]
    },
    {
      "cell_type": "code",
      "metadata": {
        "id": "b5YoPzBbIPyM",
        "colab": {
          "base_uri": "https://localhost:8080/"
        },
        "outputId": "55016b3b-eabd-46db-dcea-1d0453166bf5"
      },
      "source": [
        "############################\n",
        "## Train/ Val/ Test Split ##\n",
        "############################\n",
        "\n",
        "## CREATING A SMALLER DATASET FOR TESTING PURPOSES... TO DELETE THIS AFTER!!!\n",
        "#train, test = train_test_split(data_withdate, test_size = 0.9, random_state = random_state, shuffle = True)\n",
        "\n",
        "## Creating training, test, validation splits with Cross Validation\n",
        "train, test = train_test_split(data_withdate, test_size = 0.2, random_state = random_state, shuffle = True) ## TO DO CHANGE SHUFFLE=TRUE FOR FIRST TRAIN_TEST_SPLIT\n",
        "train, cross_val = train_test_split(train, test_size = 0.25, random_state = random_state, shuffle = False) \n",
        "print('Splitted dataset into train set, cross validation set and test set')\n",
        "print('Train shape:', train.shape)\n",
        "print('Cross_val shape:',cross_val.shape)\n",
        "print('Test shape:', test.shape)\n"
      ],
      "execution_count": 61,
      "outputs": [
        {
          "output_type": "stream",
          "text": [
            "Splitted dataset into train set, cross validation set and test set\n",
            "Train shape: (1603224, 10)\n",
            "Cross_val shape: (534409, 10)\n",
            "Test shape: (534409, 10)\n"
          ],
          "name": "stdout"
        }
      ]
    },
    {
      "cell_type": "code",
      "metadata": {
        "id": "PhCWfr-ZIPss",
        "colab": {
          "base_uri": "https://localhost:8080/",
          "height": 103
        },
        "outputId": "3946482d-9ff3-4311-f3d1-bd170d32d282"
      },
      "source": [
        "########################\n",
        "## Recommender System ##\n",
        "########################\n",
        "'''\n",
        "No explicit ratings in the casino  dataset -> need to use implicit feedback from customers. \n",
        "Game_ID count is considered as implicit feedback from customers, game_id counts will represents customers's preference or confidence for a specific casino game.\n",
        "\n",
        "Use implicit Alternating Least Squares (ALS) as a recommendation model. \n",
        "Hence, need two csr matrix, user_items (csr_matrix) – Sparse matrix containing the liked items for the user and item_users (csr_matrix)\n",
        " – Matrix of confidences for the liked items. \n",
        " This matrix should be a csr_matrix where the rows of the matrix are the item, \n",
        " the columns are the users that liked that item, and the value is the confidence that the user liked the item.\n",
        "'''"
      ],
      "execution_count": 62,
      "outputs": [
        {
          "output_type": "execute_result",
          "data": {
            "application/vnd.google.colaboratory.intrinsic+json": {
              "type": "string"
            },
            "text/plain": [
              "\"\\nNo explicit ratings in the casino  dataset -> need to use implicit feedback from customers. \\nGame_ID count is considered as implicit feedback from customers, game_id counts will represents customers's preference or confidence for a specific casino game.\\n\\nUse implicit Alternating Least Squares (ALS) as a recommendation model. \\nHence, need two csr matrix, user_items (csr_matrix) – Sparse matrix containing the liked items for the user and item_users (csr_matrix)\\n – Matrix of confidences for the liked items. \\n This matrix should be a csr_matrix where the rows of the matrix are the item, \\n the columns are the users that liked that item, and the value is the confidence that the user liked the item.\\n\""
            ]
          },
          "metadata": {
            "tags": []
          },
          "execution_count": 62
        }
      ]
    },
    {
      "cell_type": "markdown",
      "metadata": {
        "id": "WI58EDb5B-Ig"
      },
      "source": [
        ""
      ]
    },
    {
      "cell_type": "code",
      "metadata": {
        "id": "8wUNxPA2DHKH",
        "colab": {
          "base_uri": "https://localhost:8080/"
        },
        "outputId": "39995ebc-e23d-40b2-b3f0-56c0c33f3a9f"
      },
      "source": [
        "customer_game = sparse.csr_matrix((train['game_id_count'].astype(float),(train['customer_id_cat'], train['game_id_cat'])))\n",
        "game_customer = sparse.csr_matrix((train['game_id_count'].astype(float),(train['game_id_cat'], train['customer_id_cat'])))\n",
        "print(game_customer)  "
      ],
      "execution_count": 63,
      "outputs": [
        {
          "output_type": "stream",
          "text": [
            "  (0, 2969)\t7.0\n",
            "  (0, 4570)\t1.0\n",
            "  (0, 5232)\t1.0\n",
            "  (0, 9104)\t1.0\n",
            "  (0, 9333)\t1.0\n",
            "  (0, 9481)\t19.0\n",
            "  (0, 9673)\t2.0\n",
            "  (0, 12896)\t3.0\n",
            "  (0, 17439)\t13.0\n",
            "  (0, 20541)\t3.0\n",
            "  (0, 20840)\t1.0\n",
            "  (0, 22022)\t3.0\n",
            "  (0, 23442)\t2.0\n",
            "  (0, 24620)\t1.0\n",
            "  (0, 24892)\t2.0\n",
            "  (0, 25403)\t1.0\n",
            "  (0, 25677)\t1.0\n",
            "  (0, 27380)\t2.0\n",
            "  (0, 28552)\t1.0\n",
            "  (0, 28955)\t1.0\n",
            "  (0, 29264)\t10.0\n",
            "  (0, 30022)\t1.0\n",
            "  (0, 30838)\t2.0\n",
            "  (0, 31419)\t2.0\n",
            "  (0, 33458)\t1.0\n",
            "  :\t:\n",
            "  (2791, 168821)\t1.0\n",
            "  (2791, 169999)\t1.0\n",
            "  (2791, 170135)\t1.0\n",
            "  (2791, 170319)\t8.0\n",
            "  (2791, 175034)\t1.0\n",
            "  (2791, 175106)\t10.0\n",
            "  (2791, 176798)\t1.0\n",
            "  (2791, 177464)\t5.0\n",
            "  (2791, 178183)\t1.0\n",
            "  (2791, 181905)\t6.0\n",
            "  (2791, 182298)\t1.0\n",
            "  (2791, 183198)\t1.0\n",
            "  (2791, 185430)\t2.0\n",
            "  (2791, 186634)\t1.0\n",
            "  (2791, 186989)\t1.0\n",
            "  (2791, 187592)\t1.0\n",
            "  (2791, 189014)\t2.0\n",
            "  (2791, 191523)\t1.0\n",
            "  (2791, 194046)\t1.0\n",
            "  (2791, 194247)\t4.0\n",
            "  (2792, 44788)\t3.0\n",
            "  (2792, 46285)\t7.0\n",
            "  (2792, 109866)\t8.0\n",
            "  (2792, 149560)\t2.0\n",
            "  (2792, 182148)\t1.0\n"
          ],
          "name": "stdout"
        }
      ]
    },
    {
      "cell_type": "code",
      "metadata": {
        "id": "bS5FwJcbDHEG",
        "colab": {
          "base_uri": "https://localhost:8080/",
          "height": 66,
          "referenced_widgets": [
            "da0700bc66fc4f23bb468a68d3178f43",
            "856287ad77fe49059971c6d362b72ea3",
            "89083a26d666490d92f697c1411d5f3e",
            "83dfa6f180fc400c9d115efd7b52be16",
            "bad52c905533402c8178255e1539f874",
            "9582a71b2b5a4221baac93986fab7ddb",
            "367eab5862e14719acdbd48a78b292d8",
            "ce69691d892346dbbd3266da8e94cbd1"
          ]
        },
        "outputId": "d9bdc048-dde1-46ca-95bd-cd1011956fd3"
      },
      "source": [
        "## Model Training\n",
        "\n",
        "os.environ['MKL_NUM_THREADS'] = '1' #To avoid multithreading.\n",
        "os.environ['OPENBLAS_NUM_THREADS'] = '1'\n",
        "\n",
        "model = implicit.als.AlternatingLeastSquares(factors = 512, iterations = 100)\n",
        "''''Parameters: (factors=100, regularization=0.01, dtype=<type 'numpy.float32'>, use_native=True, use_cg=True, \n",
        "use_gpu=False, iterations=15, calculate_training_loss=False, num_threads=0)'''\n",
        "alpha = 40\n",
        "train_conf = (game_customer*alpha).astype('double')\n",
        "model.fit(train_conf)"
      ],
      "execution_count": 73,
      "outputs": [
        {
          "output_type": "display_data",
          "data": {
            "application/vnd.jupyter.widget-view+json": {
              "model_id": "da0700bc66fc4f23bb468a68d3178f43",
              "version_minor": 0,
              "version_major": 2
            },
            "text/plain": [
              "HBox(children=(FloatProgress(value=0.0), HTML(value='')))"
            ]
          },
          "metadata": {
            "tags": []
          }
        },
        {
          "output_type": "stream",
          "text": [
            "\n"
          ],
          "name": "stdout"
        }
      ]
    },
    {
      "cell_type": "code",
      "metadata": {
        "id": "LEqIv8LKDHBh"
      },
      "source": [
        "## Model Evaluation vs. Train\n",
        "\n",
        "'''\n",
        "Model evaluation\n",
        "Comparision of train, cros_val and test scores. Used mapk as evaluation matric. \n",
        "mapk considers the order of the predicted items so recommendation accuracy can be obtained easily.\n",
        "'''\n",
        "\n",
        "N = 5 ## N is the number of CASINO GAME recommendations created by the recommedation model for each user/ CUSTOMER\n",
        "\n",
        "fields = 'customer_id_cat', 'game_list'\n",
        "filename = 'rec_train.csv'\n",
        "with open (filename, 'a', newline = '') as f:\n",
        "    writer = csv.writer(f)\n",
        "    writer.writerow(fields)\n",
        "    customer_id_game = train['customer_id_cat'].values.tolist()\n",
        "    for customer in customer_id_game:\n",
        "        scores = []\n",
        "        games =[]\n",
        "        results = []\n",
        "        results.append(customer)\n",
        "        recommendations = model.recommend(customer, customer_game, N = N)\n",
        "        for game in recommendations:\n",
        "            ids, score = game\n",
        "            scores.append(score)\n",
        "            games.append(ids)\n",
        "        results.append(games)\n",
        "        writer.writerow(results)\n"
      ],
      "execution_count": null,
      "outputs": []
    },
    {
      "cell_type": "code",
      "metadata": {
        "id": "stlQ1KCPDG-5"
      },
      "source": [
        "predicted = pd.read_csv('rec_train.csv')\n",
        "predicted = predicted['game_list']\n",
        "\n",
        "#predicted = [ast.literal_eval(a) for a in predicted] ## ERROR CAUSED. ISSUE NOT FIXED >> ERROR CODE ValueError: malformed node or string: <_ast.Name object at 0x7fc20526b750>\n",
        "actual = train['game_id_cat']\n",
        "\n",
        "actual = np.array(actual).reshape(1603224,1) ## Train shape\n",
        "\n",
        "## MAPK USED AS EVALUATION METRIC FOR RECOMMENDATION MODEL \n",
        "## https://towardsdatascience.com/evaluation-metrics-for-recommender-systems-df56c6611093\n",
        "score = ml_metrics.mapk(actual, predicted, 5) \n",
        "print('Mean avg. precision at k for train set:','{:.8f}'.format(score))"
      ],
      "execution_count": null,
      "outputs": []
    },
    {
      "cell_type": "code",
      "metadata": {
        "id": "bdRFklQqDG8D"
      },
      "source": [
        "## Model Evaluation vs. Non Held-out Cross Validation set\n",
        "\n",
        "N = 5\n",
        "\n",
        "fields = 'customer_id_cat', 'game_list'\n",
        "filename = 'rec_cross.csv'\n",
        "with open (filename, 'a', newline = '') as f:\n",
        "    writer = csv.writer(f)\n",
        "    writer.writerow(fields)\n",
        "    customer_id_game = cross_val['customer_id_cat'].values.tolist()\n",
        "    for customer in customer_id_game:\n",
        "        scores = []\n",
        "        games =[]\n",
        "        results = []\n",
        "        results.append(customer)\n",
        "        recommendations = model.recommend(customer, customer_game, N = N)\n",
        "        for game in recommendations:\n",
        "            ids, score = game\n",
        "            scores.append(score)\n",
        "            games.append(ids)\n",
        "        results.append(games)\n",
        "        writer.writerow(results)\n"
      ],
      "execution_count": null,
      "outputs": []
    },
    {
      "cell_type": "code",
      "metadata": {
        "id": "2PB9-mOxDG5L"
      },
      "source": [
        "predicted_c = pd.read_csv('rec_cross.csv')\n",
        "predicted_c = predicted_c['game_list']\n",
        "\n",
        "#predicted_c = [ast.literal_eval(a) for a in predicted_c]\n",
        "actual_c = cross_val['game_id_cat']\n",
        "\n",
        "actual_c = np.array(actual_c).reshape(534409,1) ## Cross Val shape\n",
        "\n",
        "score_c = ml_metrics.mapk(actual_c, predicted_c, 5) \n",
        "print('Mean avg. precision at k for cross validation set:','{:.8f}'.format(score))"
      ],
      "execution_count": null,
      "outputs": []
    },
    {
      "cell_type": "code",
      "metadata": {
        "id": "BKeFbuDxDG2U"
      },
      "source": [
        "## Model Evaluation vs. Held-out Test set\n",
        "\n",
        "N = 5\n",
        "\n",
        "fields = 'customer_id_cat', 'game_list'\n",
        "filename = 'rec_test.csv'\n",
        "with open (filename, 'a', newline = '') as f:\n",
        "    writer = csv.writer(f)\n",
        "    writer.writerow(fields)\n",
        "    customer_id_game = test['customer_id_cat'].values.tolist()\n",
        "    for customer in customer_id_game:\n",
        "        scores = []\n",
        "        games =[]\n",
        "        results = []\n",
        "        results.append(customer)\n",
        "        recommendations = model.recommend(customer, customer_game, N = N)\n",
        "        for game in recommendations:\n",
        "            ids, score = game\n",
        "            scores.append(score)\n",
        "            games.append(ids)\n",
        "        results.append(games)\n",
        "        writer.writerow(results)"
      ],
      "execution_count": null,
      "outputs": []
    },
    {
      "cell_type": "code",
      "metadata": {
        "id": "Dr8YRQb8DGzg"
      },
      "source": [
        "predicted_t = pd.read_csv('rec_test.csv')\n",
        "predicted_t = predicted_t['game_list']\n",
        "\n",
        "#predicted_t = [ast.literal_eval(a) for a in predicted_t]\n",
        "actual_t = test['game_id_cat']\n",
        "\n",
        "actual_t = np.array(actual_t).reshape(534409,1) ## Test shape\n",
        "\n",
        "score_t = ml_metrics.mapk(actual_t, predicted_t, 5) \n",
        "print('Mean avg. precision at k for test set:','{:.8f}'.format(score))"
      ],
      "execution_count": null,
      "outputs": []
    },
    {
      "cell_type": "code",
      "metadata": {
        "id": "Gsb2XHFYDGws"
      },
      "source": [
        ""
      ],
      "execution_count": null,
      "outputs": []
    },
    {
      "cell_type": "code",
      "metadata": {
        "id": "0Rdb3Ev4DGuM"
      },
      "source": [
        ""
      ],
      "execution_count": null,
      "outputs": []
    },
    {
      "cell_type": "code",
      "metadata": {
        "id": "1FOczeHZDGrD"
      },
      "source": [
        ""
      ],
      "execution_count": null,
      "outputs": []
    },
    {
      "cell_type": "code",
      "metadata": {
        "id": "lTbjCpocDGoj"
      },
      "source": [
        ""
      ],
      "execution_count": null,
      "outputs": []
    },
    {
      "cell_type": "code",
      "metadata": {
        "id": "nTy3NLmvDGlr"
      },
      "source": [
        ""
      ],
      "execution_count": null,
      "outputs": []
    },
    {
      "cell_type": "code",
      "metadata": {
        "id": "y5x8qqAfDGjF"
      },
      "source": [
        ""
      ],
      "execution_count": null,
      "outputs": []
    },
    {
      "cell_type": "code",
      "metadata": {
        "id": "Wzem9I3SDGga"
      },
      "source": [
        ""
      ],
      "execution_count": null,
      "outputs": []
    },
    {
      "cell_type": "code",
      "metadata": {
        "id": "YNPXSqCADGdq"
      },
      "source": [
        ""
      ],
      "execution_count": null,
      "outputs": []
    },
    {
      "cell_type": "code",
      "metadata": {
        "id": "yu1gaHiIDGa6"
      },
      "source": [
        ""
      ],
      "execution_count": null,
      "outputs": []
    },
    {
      "cell_type": "code",
      "metadata": {
        "id": "84Gy8Y0KDGXy"
      },
      "source": [
        ""
      ],
      "execution_count": null,
      "outputs": []
    }
  ]
}